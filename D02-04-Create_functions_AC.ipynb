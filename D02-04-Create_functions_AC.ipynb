{
 "cells": [
  {
   "cell_type": "markdown",
   "metadata": {},
   "source": [
    "# Functions"
   ]
  },
  {
   "cell_type": "markdown",
   "metadata": {},
   "source": [
    "Let's start with a simple function:\n",
    "\n",
    "* Declare a function that returns the square root of a number. We'll call it `sqrt()`.\n",
    "* Execute the function to compute the square root of 25 and print the result"
   ]
  },
  {
   "cell_type": "code",
   "execution_count": 1,
   "metadata": {},
   "outputs": [],
   "source": [
    "import math\n",
    "\n",
    "def sqrt(number):\n",
    "    try:\n",
    "        result = math.sqrt(number)\n",
    "    except ValueError:\n",
    "        print(\"Type a positive number.\")\n",
    "    except TypeError:\n",
    "        print(\"Type a number.\")\n",
    "    else:\n",
    "        print(result)"
   ]
  },
  {
   "cell_type": "code",
   "execution_count": 2,
   "metadata": {},
   "outputs": [
    {
     "name": "stdout",
     "output_type": "stream",
     "text": [
      "1.4832396974191326\n"
     ]
    }
   ],
   "source": [
    "sqrt(2.2)"
   ]
  },
  {
   "cell_type": "code",
   "execution_count": 3,
   "metadata": {},
   "outputs": [
    {
     "data": {
      "text/plain": [
       "5.0"
      ]
     },
     "execution_count": 3,
     "metadata": {},
     "output_type": "execute_result"
    }
   ],
   "source": [
    "def sqrt(number):\n",
    "    result = number ** 0.5\n",
    "    return result\n",
    "    print(\"La racine carrée est {:4.2f}\".format(result))\n",
    "    \n",
    "sqrt(25)"
   ]
  },
  {
   "cell_type": "code",
   "execution_count": 16,
   "metadata": {},
   "outputs": [
    {
     "name": "stdout",
     "output_type": "stream",
     "text": [
      "type positive no and no. different than 13\n"
     ]
    }
   ],
   "source": [
    "def sqrt(number):\n",
    "    try:\n",
    "        result = math.sqrt(number)\n",
    "        if number == 13:\n",
    "            raise ValueError\n",
    "    except ValueError:\n",
    "        print(\"type positive no and no. different than 13\")\n",
    "    except TypeError:\n",
    "        print(\"type no\")\n",
    "    else:\n",
    "        print(result)\n",
    "\n",
    "sqrt(13)"
   ]
  }
 ],
 "metadata": {
  "kernelspec": {
   "display_name": "Python 3",
   "language": "python",
   "name": "python3"
  },
  "language_info": {
   "codemirror_mode": {
    "name": "ipython",
    "version": 3
   },
   "file_extension": ".py",
   "mimetype": "text/x-python",
   "name": "python",
   "nbconvert_exporter": "python",
   "pygments_lexer": "ipython3",
   "version": "3.8.5"
  }
 },
 "nbformat": 4,
 "nbformat_minor": 4
}
