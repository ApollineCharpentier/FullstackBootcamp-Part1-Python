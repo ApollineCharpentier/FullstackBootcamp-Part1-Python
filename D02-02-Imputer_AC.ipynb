{
 "cells": [
  {
   "cell_type": "markdown",
   "metadata": {
    "colab_type": "text",
    "id": "6cqYL_Y0rfoH"
   },
   "source": [
    "# Imputer"
   ]
  },
  {
   "cell_type": "markdown",
   "metadata": {
    "colab_type": "text",
    "id": "sB61JRG-rj6v"
   },
   "source": [
    "_In data science, it's common for there to be missing values in a dataset. Let's see how we can create a class that will allow us to replace this missing value by the average of the values in the list_"
   ]
  },
  {
   "cell_type": "markdown",
   "metadata": {
    "colab_type": "text",
    "id": "nvclKDGOrlV3"
   },
   "source": [
    "1. _Create a class that we will call Imputer_.\n",
    "2. _To simplify the exercise, we will only deal with lists for the moment._\n",
    "3. _Our class will take an attribute that we will call list_.\n",
    "4. _Create an avg() function that will first remove the missing value and then replace it with the average of the list._"
   ]
  },
  {
   "cell_type": "code",
   "execution_count": 18,
   "metadata": {
    "colab": {
     "base_uri": "https://localhost:8080/",
     "height": 52
    },
    "colab_type": "code",
    "id": "4agC-7RLrQSp",
    "outputId": "c98a0475-d2f7-4e53-e3b3-e45b2c1874ff"
   },
   "outputs": [],
   "source": [
    "class Imputer():\n",
    "    def remove_replace(self, liste):\n",
    "        total = 0\n",
    "        count = 0\n",
    "        average = 0\n",
    "        list_temp = liste[:]\n",
    "        \n",
    "        for i in list_temp:\n",
    "            if i == None:\n",
    "                list_temp.remove(None)\n",
    "\n",
    "        for i in list_temp:\n",
    "                total = total + i\n",
    "                count = count + 1\n",
    "        average = total / count\n",
    "        \n",
    "        for index, item in enumerate(liste):\n",
    "            if item == None:\n",
    "                liste[index] = average\n",
    "\n",
    "        print(\"list_temp : \",list_temp)\n",
    "        print(\"average : \",average)\n",
    "        print(\"list : \", liste)\n",
    "        return liste"
   ]
  },
  {
   "cell_type": "code",
   "execution_count": 69,
   "metadata": {},
   "outputs": [
    {
     "name": "stdout",
     "output_type": "stream",
     "text": [
      "list_temp :  [1, 2, 3]\n",
      "average :  2.0\n",
      "list :  [2.0, 1, 2, 2.0, 3]\n"
     ]
    },
    {
     "data": {
      "text/plain": [
       "[2.0, 1, 2, 2.0, 3]"
      ]
     },
     "execution_count": 69,
     "metadata": {},
     "output_type": "execute_result"
    }
   ],
   "source": [
    "i = Imputer()\n",
    "i.remove_replace([None, 1, 2, None, 3])"
   ]
  },
  {
   "cell_type": "code",
   "execution_count": 15,
   "metadata": {},
   "outputs": [],
   "source": [
    "class Imputer():\n",
    "    def __init__(self, liste):\n",
    "        self.list = liste\n",
    "        \n",
    "    def average(self):\n",
    "        sum = 0\n",
    "        list2 = [] # déclaration d'une liste vide\n",
    "        \n",
    "        for i in range(len(self.list)):\n",
    "            if self.list[i] is None:\n",
    "                list2 = list2 + [i] # on concatene la liste avec la liste d'un seul élément\n",
    "            else:\n",
    "                sum = sum + self.list[i]\n",
    "                \n",
    "        for i in list2:\n",
    "            self.list[i] = sum / (len(self.list) - len(list2))\n",
    "        return self.list"
   ]
  },
  {
   "cell_type": "code",
   "execution_count": 16,
   "metadata": {},
   "outputs": [
    {
     "data": {
      "text/plain": [
       "[2.0, 1, 2, 2.0, 3]"
      ]
     },
     "execution_count": 16,
     "metadata": {},
     "output_type": "execute_result"
    }
   ],
   "source": [
    "liste = [None, 1, 2, None, 3]\n",
    "i = Imputer(liste)\n",
    "i.average()"
   ]
  },
  {
   "cell_type": "code",
   "execution_count": null,
   "metadata": {},
   "outputs": [],
   "source": [
    "class Imputer2():\n",
    "    def __init__(self, liste):\n",
    "        self.list = liste\n",
    "        \n",
    "    def average(self):\n",
    "        total = 0\n",
    "        list_temp = []\n",
    "        \n",
    "    for i in range(len(self.list)):\n",
    "        if self.list[] is None:\n",
    "            "
   ]
  },
  {
   "cell_type": "markdown",
   "metadata": {
    "colab_type": "text",
    "id": "bc7K3aMYr9uH"
   },
   "source": [
    "# Improve Imputer\n",
    "\n",
    "_We have created our Imputer class which works very well for replacing missing values with averages. But, couldn't we also use this class to replace with a median? Try to add a method in Imputer that will allow us to replace the list with either the average or the median._"
   ]
  },
  {
   "cell_type": "code",
   "execution_count": 122,
   "metadata": {
    "colab": {
     "base_uri": "https://localhost:8080/",
     "height": 86
    },
    "colab_type": "code",
    "id": "vWlNZ5nDrqPa",
    "outputId": "b80570c6-7d61-4ee6-8da0-deefadcf6f3e"
   },
   "outputs": [],
   "source": [
    "class Imputer():\n",
    "    def __init__(self, liste):\n",
    "        self.list = liste # .list sert à définir la liste\n",
    "    \n",
    "    def replace_median(self):\n",
    "        total = 0\n",
    "        count = 0\n",
    "        median = 0\n",
    "        middle = 0\n",
    "        list_temp = liste[:]\n",
    "        \n",
    "        for i in list_temp:\n",
    "            if i == None:\n",
    "                list_temp.remove(None)\n",
    "\n",
    "        list_temp.sort()\n",
    "        if len(list_temp) % 2 == 0:\n",
    "            middle = int(len(list_temp) / 2)\n",
    "            median = (list_temp[middle - 1] + list_temp[middle]) / 2\n",
    "        else:\n",
    "            middle = int(len(list_temp) / 2 + 0.5)\n",
    "            median = list_temp[middle - 1]\n",
    "        \n",
    "        for index, item in enumerate(liste):\n",
    "            if item == None:\n",
    "                liste[index] = median\n",
    "        return self.list\n",
    "   \n",
    "        print(\"middle : \", middle)\n",
    "        print(\"list_temp : \", list_temp)\n",
    "        print(\"median : \", median)\n",
    "        print(\"list : \", liste)"
   ]
  },
  {
   "cell_type": "code",
   "execution_count": 123,
   "metadata": {
    "colab": {},
    "colab_type": "code",
    "id": "TeloaQ3Ot-M5"
   },
   "outputs": [
    {
     "data": {
      "text/plain": [
       "[22.5, 6, 12, 22.5, 33, 22.5, 77]"
      ]
     },
     "execution_count": 123,
     "metadata": {},
     "output_type": "execute_result"
    }
   ],
   "source": [
    "liste = [None, 6, 12, None, 33, None, 77]\n",
    "m = Imputer(liste)\n",
    "m.replace_median()"
   ]
  }
 ],
 "metadata": {
  "colab": {
   "collapsed_sections": [],
   "name": "Imputer - Exercice S1-3.ipynb",
   "provenance": [],
   "version": "0.3.2"
  },
  "kernelspec": {
   "display_name": "Python 3",
   "language": "python",
   "name": "python3"
  },
  "language_info": {
   "codemirror_mode": {
    "name": "ipython",
    "version": 3
   },
   "file_extension": ".py",
   "mimetype": "text/x-python",
   "name": "python",
   "nbconvert_exporter": "python",
   "pygments_lexer": "ipython3",
   "version": "3.8.5"
  }
 },
 "nbformat": 4,
 "nbformat_minor": 4
}
