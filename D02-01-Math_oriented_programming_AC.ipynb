{
 "cells": [
  {
   "cell_type": "markdown",
   "metadata": {
    "colab_type": "text",
    "id": "ARXMbV_Vp5qc"
   },
   "source": [
    "# Mathematically Oriented Programming"
   ]
  },
  {
   "cell_type": "markdown",
   "metadata": {
    "colab_type": "text",
    "id": "1JYqlALqp73y"
   },
   "source": [
    "_Mathematics, in general, we don't like to do it. Especially when it involves repeating operations, over and over again. Let's be real lazy and create a class that will do the operations we want for us._"
   ]
  },
  {
   "cell_type": "markdown",
   "metadata": {
    "colab_type": "text",
    "id": "Lc3ol0PSp98l"
   },
   "source": [
    "1. _Create a class to be called \"math.\"_\n",
    "2. _This class will have no internal attributes, so you don't need to define an init() _\n",
    "3. _Create a method that will compute the square root of any number._\n",
    "4. _Create a method that will calculate the average of any list of numbers._\n",
    "5. _Create a method to find out if a number is even or odd_.\n",
    "6. _Finally, create a method that will give the total sum of a list of numbers._\n"
   ]
  },
  {
   "cell_type": "code",
   "execution_count": 84,
   "metadata": {
    "colab": {
     "base_uri": "https://localhost:8080/",
     "height": 104
    },
    "colab_type": "code",
    "id": "xFLBlgj1pndw",
    "outputId": "44506b62-75cb-416a-895e-848ef632a530"
   },
   "outputs": [],
   "source": [
    "class math():\n",
    "    \n",
    "    def sqrt(self, n):\n",
    "        n = n ** 0.5\n",
    "        return n\n",
    "    \n",
    "    def average(self, list):\n",
    "        count = 0\n",
    "        total = 0\n",
    "        for i in list:\n",
    "            count += 1\n",
    "            total += i\n",
    "        return total / count\n",
    "    \n",
    "    def even_odd(self, n):\n",
    "        if n % 2 == 0:\n",
    "            print(\"Even number.\")\n",
    "        else:\n",
    "            print(\"Odd number.\")\n",
    "            \n",
    "    def add_items(self, list):\n",
    "        total = 0\n",
    "        for i in list:\n",
    "            total += i\n",
    "        return total"
   ]
  },
  {
   "cell_type": "code",
   "execution_count": 51,
   "metadata": {
    "colab": {},
    "colab_type": "code",
    "id": "zTLqevqKqBp0"
   },
   "outputs": [
    {
     "data": {
      "text/plain": [
       "2.0"
      ]
     },
     "execution_count": 51,
     "metadata": {},
     "output_type": "execute_result"
    }
   ],
   "source": [
    "m = math()\n",
    "m.sqrt(4)"
   ]
  },
  {
   "cell_type": "code",
   "execution_count": 85,
   "metadata": {},
   "outputs": [
    {
     "data": {
      "text/plain": [
       "2.6"
      ]
     },
     "execution_count": 85,
     "metadata": {},
     "output_type": "execute_result"
    }
   ],
   "source": [
    "m = math()\n",
    "m.average([1, 2, 2, 3, 5])"
   ]
  },
  {
   "cell_type": "code",
   "execution_count": 75,
   "metadata": {},
   "outputs": [
    {
     "name": "stdout",
     "output_type": "stream",
     "text": [
      "Odd number.\n"
     ]
    }
   ],
   "source": [
    "m = math()\n",
    "m.even_odd(1)"
   ]
  },
  {
   "cell_type": "code",
   "execution_count": 49,
   "metadata": {},
   "outputs": [
    {
     "data": {
      "text/plain": [
       "6"
      ]
     },
     "execution_count": 49,
     "metadata": {},
     "output_type": "execute_result"
    }
   ],
   "source": [
    "list = math()\n",
    "list.add_items([1, 2, 3])"
   ]
  },
  {
   "cell_type": "code",
   "execution_count": 7,
   "metadata": {},
   "outputs": [],
   "source": [
    "class math2():\n",
    "    \n",
    "    def sqrt(self, n):\n",
    "        n = n ** 0.5\n",
    "        return n\n",
    "    \n",
    "    def average(self, *list): # *list pour passer une liste d'arguments\n",
    "        count = 0\n",
    "        total = 0\n",
    "        for i in list:\n",
    "            count += 1\n",
    "            total += i\n",
    "        return total / count\n",
    "    \n",
    "    def even_odd(self, n):\n",
    "        if n % 2 == 0:\n",
    "            print(\"Even number.\")\n",
    "        else:\n",
    "            print(\"Odd number.\")\n",
    "            \n",
    "    def add_items(self, *list):\n",
    "        total = 0\n",
    "        for i in list:\n",
    "            total += i\n",
    "        return total"
   ]
  },
  {
   "cell_type": "code",
   "execution_count": 8,
   "metadata": {},
   "outputs": [
    {
     "data": {
      "text/plain": [
       "1.5"
      ]
     },
     "execution_count": 8,
     "metadata": {},
     "output_type": "execute_result"
    }
   ],
   "source": [
    "m = math2()\n",
    "m.average(1, 2)"
   ]
  }
 ],
 "metadata": {
  "colab": {
   "name": "Programmation Orientée Mathématiques - Exercice S1-3.ipynb",
   "provenance": [],
   "version": "0.3.2"
  },
  "kernelspec": {
   "display_name": "Python 3",
   "language": "python",
   "name": "python3"
  },
  "language_info": {
   "codemirror_mode": {
    "name": "ipython",
    "version": 3
   },
   "file_extension": ".py",
   "mimetype": "text/x-python",
   "name": "python",
   "nbconvert_exporter": "python",
   "pygments_lexer": "ipython3",
   "version": "3.8.5"
  }
 },
 "nbformat": 4,
 "nbformat_minor": 4
}
