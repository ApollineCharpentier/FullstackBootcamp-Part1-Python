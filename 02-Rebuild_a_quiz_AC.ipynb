{
 "cells": [
  {
   "cell_type": "markdown",
   "metadata": {},
   "source": [
    "# Build a quiz - Part 2"
   ]
  },
  {
   "cell_type": "markdown",
   "metadata": {},
   "source": [
    "Below is the code we wrote yesterday, that asks three questions to the user and allows up to 3 wrong answers :"
   ]
  },
  {
   "cell_type": "code",
   "execution_count": 2,
   "metadata": {},
   "outputs": [
    {
     "name": "stdout",
     "output_type": "stream",
     "text": [
      "Voici notre quiz, tu as trois chances !\n"
     ]
    },
    {
     "name": "stdin",
     "output_type": "stream",
     "text": [
      "Combien de fois la France a gagné la coupe du monde ?  2\n",
      "Quand a été fondé Apple ?  1974\n"
     ]
    },
    {
     "name": "stdout",
     "output_type": "stream",
     "text": [
      "Dommage ! Il te reste 2 chances\n"
     ]
    },
    {
     "name": "stdin",
     "output_type": "stream",
     "text": [
      "Quand a été fondé Apple ?  1976\n",
      "Qui a fondé SpaceX ?  HI\n"
     ]
    },
    {
     "name": "stdout",
     "output_type": "stream",
     "text": [
      "Dommage ! Il te reste 1 chances\n"
     ]
    },
    {
     "name": "stdin",
     "output_type": "stream",
     "text": [
      "Qui a fondé SpaceX ?  elon musk\n"
     ]
    },
    {
     "name": "stdout",
     "output_type": "stream",
     "text": [
      "Bravo ! Tu as gagné le quiz !\n"
     ]
    }
   ],
   "source": [
    "nb_de_chances = 3\n",
    "\n",
    "print(\"Voici notre quiz, tu as trois chances !\")\n",
    "\n",
    "if nb_de_chances > 0:\n",
    "    question1= input(\"Combien de fois la France a gagné la coupe du monde ? \")\n",
    "    while question1 != \"2\":\n",
    "        nb_de_chances -= 1\n",
    "        print(\"Dommage ! Il te reste {} chances\".format(nb_de_chances))\n",
    "        if nb_de_chances == 0:\n",
    "            print(\"Oh non ! Tu as perdu le jeu...\")\n",
    "            break\n",
    "        question1 = input(\"Combien de fois la France a gagné la coupe du monde ? \")\n",
    "\n",
    "if nb_de_chances > 0:\n",
    "    question2 = input(\"Quand a été fondé Apple ? \")\n",
    "    while question2 != \"1976\":\n",
    "        nb_de_chances -=1\n",
    "        print(\"Dommage ! Il te reste {} chances\".format(nb_de_chances))\n",
    "        if nb_de_chances == 0:\n",
    "            print(\"Oh non ! Tu as perdu le jeu...\")\n",
    "            break\n",
    "        question2 = input(\"Quand a été fondé Apple ? \")\n",
    "\n",
    "\n",
    "if nb_de_chances > 0:\n",
    "    question3 = input(\"Qui a fondé SpaceX ? \")\n",
    "    question3 = question3.lower()\n",
    "    while question3 != \"elon musk\":\n",
    "        nb_de_chances -=1\n",
    "        print(\"Dommage ! Il te reste {} chances\".format(nb_de_chances))\n",
    "        if nb_de_chances == 0:\n",
    "            print(\"Oh non ! Tu as perdu le jeu...\")\n",
    "            break\n",
    "        question3 = input(\"Qui a fondé SpaceX ? \")\n",
    "        question3 = question3.lower()\n",
    "\n",
    "if nb_de_chances > 0:\n",
    "    print(\"Bravo ! Tu as gagné le quiz !\")\n"
   ]
  },
  {
   "cell_type": "markdown",
   "metadata": {},
   "source": [
    "Let's refactor our quiz now that we know how to be dry.\n",
    "\n",
    "SPECs: \n",
    "\n",
    "* Your code should be DRY \n",
    "* You should use functions "
   ]
  },
  {
   "cell_type": "code",
   "execution_count": 118,
   "metadata": {},
   "outputs": [],
   "source": [
    "def question1(count):\n",
    "    answer1 = input(\"Combien de fois a ton gagné la coupe du monde ?\")\n",
    "    while answer1 != '2':\n",
    "        count = count - 1\n",
    "        if count > 0:\n",
    "            print(\"Dommage. Il te reste {} chances.\".format(count))\n",
    "            answer1 = input(\"Combien de fois a ton gagané la coupe du monde ?\")\n",
    "        else:\n",
    "            print(\"Game over.\")\n",
    "            break\n",
    "            \n",
    "    return(count)\n",
    "        \n",
    "def question2(count):\n",
    "    answer2 = input(\"Quand ete fondé Apple ?\")\n",
    "    while answer2 != '1976':\n",
    "        count = count - 1\n",
    "        if count > 0:\n",
    "            print(\"Dommage. Il te reste {} chances.\".format(count))\n",
    "            answer2 = input(\"Quand ete fondé Apple ?\")\n",
    "        else:\n",
    "            print(\"Game over.\")\n",
    "            break\n",
    "    return(count)\n",
    "\n",
    "def question3(count):\n",
    "    answer3 = input(\"Qui a fonde SpaceX?\")\n",
    "    while answer3 != 'Elon Musk':\n",
    "        count = count - 1\n",
    "        if count > 0:\n",
    "            print(\"Dommage. Il te reste {} chances.\".format(count))\n",
    "            answer2 = input(\"Qui a fonde SpaceX?\")\n",
    "        else:\n",
    "            print(\"Game over.\")\n",
    "            break\n",
    "    return(count)\n",
    "    \n",
    "def all_questions(count):\n",
    "    count1 = question1(count)\n",
    "    if count1 > 0:\n",
    "        count2 = question2(count1)        \n",
    "        if count2 > 0:\n",
    "            count3 = question3(count2)\n",
    "            if count3 > 0:\n",
    "                print(\"Well done!\")"
   ]
  },
  {
   "cell_type": "code",
   "execution_count": 120,
   "metadata": {},
   "outputs": [
    {
     "name": "stdin",
     "output_type": "stream",
     "text": [
      "Combien de fois a ton gagné la coupe du monde ? 2\n",
      "Quand ete fondé Apple ? 2\n"
     ]
    },
    {
     "name": "stdout",
     "output_type": "stream",
     "text": [
      "Dommage. Il te reste 2 chances.\n"
     ]
    },
    {
     "name": "stdin",
     "output_type": "stream",
     "text": [
      "Quand ete fondé Apple ? 2\n"
     ]
    },
    {
     "name": "stdout",
     "output_type": "stream",
     "text": [
      "Dommage. Il te reste 1 chances.\n"
     ]
    },
    {
     "name": "stdin",
     "output_type": "stream",
     "text": [
      "Quand ete fondé Apple ? 2\n"
     ]
    },
    {
     "name": "stdout",
     "output_type": "stream",
     "text": [
      "Game over.\n"
     ]
    }
   ],
   "source": [
    "all_questions(3)"
   ]
  }
 ],
 "metadata": {
  "kernelspec": {
   "display_name": "Python 3",
   "language": "python",
   "name": "python3"
  },
  "language_info": {
   "codemirror_mode": {
    "name": "ipython",
    "version": 3
   },
   "file_extension": ".py",
   "mimetype": "text/x-python",
   "name": "python",
   "nbconvert_exporter": "python",
   "pygments_lexer": "ipython3",
   "version": "3.8.5"
  }
 },
 "nbformat": 4,
 "nbformat_minor": 4
}
